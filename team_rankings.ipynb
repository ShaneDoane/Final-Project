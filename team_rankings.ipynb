{
 "cells": [
  {
   "cell_type": "code",
   "execution_count": 1,
   "metadata": {},
   "outputs": [],
   "source": [
    "# Importing Dependancies \n",
    "import pandas as pd\n",
    "import numpy as np\n",
    "import seaborn as sn\n",
    "import matplotlib.pyplot as plt"
   ]
  },
  {
   "cell_type": "code",
   "execution_count": 3,
   "metadata": {},
   "outputs": [
    {
     "data": {
      "text/html": [
       "<div>\n",
       "<style scoped>\n",
       "    .dataframe tbody tr th:only-of-type {\n",
       "        vertical-align: middle;\n",
       "    }\n",
       "\n",
       "    .dataframe tbody tr th {\n",
       "        vertical-align: top;\n",
       "    }\n",
       "\n",
       "    .dataframe thead th {\n",
       "        text-align: right;\n",
       "    }\n",
       "</style>\n",
       "<table border=\"1\" class=\"dataframe\">\n",
       "  <thead>\n",
       "    <tr style=\"text-align: right;\">\n",
       "      <th></th>\n",
       "      <th>Season</th>\n",
       "      <th>RankingDayNum</th>\n",
       "      <th>SystemName</th>\n",
       "      <th>TeamID</th>\n",
       "      <th>OrdinalRank</th>\n",
       "    </tr>\n",
       "  </thead>\n",
       "  <tbody>\n",
       "    <tr>\n",
       "      <th>0</th>\n",
       "      <td>2003</td>\n",
       "      <td>35</td>\n",
       "      <td>SEL</td>\n",
       "      <td>1102</td>\n",
       "      <td>159</td>\n",
       "    </tr>\n",
       "    <tr>\n",
       "      <th>1</th>\n",
       "      <td>2003</td>\n",
       "      <td>35</td>\n",
       "      <td>SEL</td>\n",
       "      <td>1103</td>\n",
       "      <td>229</td>\n",
       "    </tr>\n",
       "    <tr>\n",
       "      <th>2</th>\n",
       "      <td>2003</td>\n",
       "      <td>35</td>\n",
       "      <td>SEL</td>\n",
       "      <td>1104</td>\n",
       "      <td>12</td>\n",
       "    </tr>\n",
       "    <tr>\n",
       "      <th>3</th>\n",
       "      <td>2003</td>\n",
       "      <td>35</td>\n",
       "      <td>SEL</td>\n",
       "      <td>1105</td>\n",
       "      <td>314</td>\n",
       "    </tr>\n",
       "    <tr>\n",
       "      <th>4</th>\n",
       "      <td>2003</td>\n",
       "      <td>35</td>\n",
       "      <td>SEL</td>\n",
       "      <td>1106</td>\n",
       "      <td>260</td>\n",
       "    </tr>\n",
       "    <tr>\n",
       "      <th>...</th>\n",
       "      <td>...</td>\n",
       "      <td>...</td>\n",
       "      <td>...</td>\n",
       "      <td>...</td>\n",
       "      <td>...</td>\n",
       "    </tr>\n",
       "    <tr>\n",
       "      <th>4521715</th>\n",
       "      <td>2022</td>\n",
       "      <td>100</td>\n",
       "      <td>WOL</td>\n",
       "      <td>1468</td>\n",
       "      <td>183</td>\n",
       "    </tr>\n",
       "    <tr>\n",
       "      <th>4521716</th>\n",
       "      <td>2022</td>\n",
       "      <td>100</td>\n",
       "      <td>WOL</td>\n",
       "      <td>1469</td>\n",
       "      <td>259</td>\n",
       "    </tr>\n",
       "    <tr>\n",
       "      <th>4521717</th>\n",
       "      <td>2022</td>\n",
       "      <td>100</td>\n",
       "      <td>WOL</td>\n",
       "      <td>1470</td>\n",
       "      <td>209</td>\n",
       "    </tr>\n",
       "    <tr>\n",
       "      <th>4521718</th>\n",
       "      <td>2022</td>\n",
       "      <td>100</td>\n",
       "      <td>WOL</td>\n",
       "      <td>1471</td>\n",
       "      <td>270</td>\n",
       "    </tr>\n",
       "    <tr>\n",
       "      <th>4521719</th>\n",
       "      <td>2022</td>\n",
       "      <td>100</td>\n",
       "      <td>WOL</td>\n",
       "      <td>1472</td>\n",
       "      <td>296</td>\n",
       "    </tr>\n",
       "  </tbody>\n",
       "</table>\n",
       "<p>4521720 rows × 5 columns</p>\n",
       "</div>"
      ],
      "text/plain": [
       "         Season  RankingDayNum SystemName  TeamID  OrdinalRank\n",
       "0          2003             35        SEL    1102          159\n",
       "1          2003             35        SEL    1103          229\n",
       "2          2003             35        SEL    1104           12\n",
       "3          2003             35        SEL    1105          314\n",
       "4          2003             35        SEL    1106          260\n",
       "...         ...            ...        ...     ...          ...\n",
       "4521715    2022            100        WOL    1468          183\n",
       "4521716    2022            100        WOL    1469          259\n",
       "4521717    2022            100        WOL    1470          209\n",
       "4521718    2022            100        WOL    1471          270\n",
       "4521719    2022            100        WOL    1472          296\n",
       "\n",
       "[4521720 rows x 5 columns]"
      ]
     },
     "execution_count": 3,
     "metadata": {},
     "output_type": "execute_result"
    }
   ],
   "source": [
    "# importing ranking csv\n",
    "rankings_df = pd.read_csv(\"Resources/MMasseyOrdinals.csv\")\n",
    "rankings_df"
   ]
  },
  {
   "cell_type": "code",
   "execution_count": 4,
   "metadata": {},
   "outputs": [
    {
     "data": {
      "text/plain": [
       "Index(['Season', 'RankingDayNum', 'SystemName', 'TeamID', 'OrdinalRank'], dtype='object')"
      ]
     },
     "execution_count": 4,
     "metadata": {},
     "output_type": "execute_result"
    }
   ],
   "source": [
    "#Saving column names \n",
    "rankings_cols = rankings_df.columns\n",
    "rankings_cols"
   ]
  },
  {
   "cell_type": "code",
   "execution_count": 6,
   "metadata": {},
   "outputs": [
    {
     "name": "stdout",
     "output_type": "stream",
     "text": [
      "<class 'pandas.core.frame.DataFrame'>\n",
      "RangeIndex: 4521720 entries, 0 to 4521719\n",
      "Data columns (total 5 columns):\n",
      " #   Column         Dtype \n",
      "---  ------         ----- \n",
      " 0   Season         int64 \n",
      " 1   RankingDayNum  int64 \n",
      " 2   SystemName     object\n",
      " 3   TeamID         int64 \n",
      " 4   OrdinalRank    int64 \n",
      "dtypes: int64(4), object(1)\n",
      "memory usage: 172.5+ MB\n"
     ]
    }
   ],
   "source": [
    "#checking for objects in data\n",
    "# NOTE TO TEAM: SystemName is an object \n",
    "rankings_df.info()"
   ]
  },
  {
   "cell_type": "code",
   "execution_count": 10,
   "metadata": {},
   "outputs": [
    {
     "data": {
      "text/plain": [
       "Season           0\n",
       "RankingDayNum    0\n",
       "SystemName       0\n",
       "TeamID           0\n",
       "OrdinalRank      0\n",
       "dtype: int64"
      ]
     },
     "execution_count": 10,
     "metadata": {},
     "output_type": "execute_result"
    }
   ],
   "source": [
    "#checking for null values\n",
    "# All clear!\n",
    "rankings_df.isnull().sum()"
   ]
  },
  {
   "cell_type": "code",
   "execution_count": null,
   "metadata": {},
   "outputs": [],
   "source": [
    "# Rankings are ready to go!"
   ]
  }
 ],
 "metadata": {
  "kernelspec": {
   "display_name": "PythonData1",
   "language": "python",
   "name": "pythondata1"
  },
  "language_info": {
   "codemirror_mode": {
    "name": "ipython",
    "version": 3
   },
   "file_extension": ".py",
   "mimetype": "text/x-python",
   "name": "python",
   "nbconvert_exporter": "python",
   "pygments_lexer": "ipython3",
   "version": "3.6.10"
  }
 },
 "nbformat": 4,
 "nbformat_minor": 4
}
