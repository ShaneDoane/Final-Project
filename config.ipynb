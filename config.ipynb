{
 "cells": [
  {
   "cell_type": "code",
   "execution_count": null,
   "id": "5c308525",
   "metadata": {},
   "outputs": [],
   "source": [
    "host = 'group2022.cem6bfyajguw.us-east-2.rds.amazonaws.com'\n",
    "database = 'postgres'\n",
    "user = 'postgres'\n",
    "password = 'postgrespassword'"
   ]
  }
 ],
 "metadata": {
  "kernelspec": {
   "display_name": "ml2env",
   "language": "python",
   "name": "ml2env"
  },
  "language_info": {
   "codemirror_mode": {
    "name": "ipython",
    "version": 3
   },
   "file_extension": ".py",
   "mimetype": "text/x-python",
   "name": "python",
   "nbconvert_exporter": "python",
   "pygments_lexer": "ipython3",
   "version": "3.7.11"
  }
 },
 "nbformat": 4,
 "nbformat_minor": 5
}
